{
 "cells": [
  {
   "cell_type": "code",
   "execution_count": 1,
   "id": "2f3c88f1-18b2-4286-bf48-6c40aa39855c",
   "metadata": {},
   "outputs": [],
   "source": [
    "import csv"
   ]
  },
  {
   "cell_type": "code",
   "execution_count": 4,
   "id": "11b67077-b3c7-4c54-98cd-7adcc0ecfae0",
   "metadata": {},
   "outputs": [
    {
     "name": "stdout",
     "output_type": "stream",
     "text": [
      "Hello this is intro file.\n",
      "My name is om.\n",
      "My city name is vyara.\n",
      "My age is 18.\n",
      "I am create this file for practice.\n",
      "I practice how to write and read the txt file in python.\n",
      "I am create this intro file in python and print only even number of row in another file.\n",
      "\n"
     ]
    }
   ],
   "source": [
    "with open('C:\\sqlite3\\intro.txt','r')as f:\n",
    "    r=f.read()\n",
    "    print(r)"
   ]
  },
  {
   "cell_type": "code",
   "execution_count": null,
   "id": "4ef95b37-8798-4287-ba5d-543de43a15d3",
   "metadata": {},
   "outputs": [],
   "source": [
    "with open('C:\\sqlite3\\intro.txt','r')as f:\n",
    "    with open('intro_copy.txt','w')as p:\n",
    "        for r in f:\n",
    "             if r % 2 == 1:\n",
    "                 p.write(r)"
   ]
  }
 ],
 "metadata": {
  "kernelspec": {
   "display_name": "Python 3 (ipykernel)",
   "language": "python",
   "name": "python3"
  },
  "language_info": {
   "codemirror_mode": {
    "name": "ipython",
    "version": 3
   },
   "file_extension": ".py",
   "mimetype": "text/x-python",
   "name": "python",
   "nbconvert_exporter": "python",
   "pygments_lexer": "ipython3",
   "version": "3.9.6"
  }
 },
 "nbformat": 4,
 "nbformat_minor": 5
}
